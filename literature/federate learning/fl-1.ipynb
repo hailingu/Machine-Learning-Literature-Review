{
 "metadata": {
  "language_info": {
   "codemirror_mode": {
    "name": "ipython",
    "version": 3
   },
   "file_extension": ".py",
   "mimetype": "text/x-python",
   "name": "python",
   "nbconvert_exporter": "python",
   "pygments_lexer": "ipython3",
   "version": "3.7.6-final"
  },
  "orig_nbformat": 2,
  "kernelspec": {
   "name": "python3",
   "display_name": "Python 3"
  }
 },
 "nbformat": 4,
 "nbformat_minor": 2,
 "cells": [
  {
   "source": [
    "# Data Leakage from Gradients"
   ],
   "cell_type": "markdown",
   "metadata": {}
  },
  {
   "source": [
    "*文章已经放在资源文件中*"
   ],
   "cell_type": "markdown",
   "metadata": {}
  },
  {
   "source": [
    "## Abstract\n",
    "\n",
    "1.\t人们认为共享梯度是安全的，事实上不是。\n",
    "2.  本文实验了利用共享梯度可以在 NLP 领域可以获得 token 级别的原始数据，在 CV 领域可以获得像素级别的数据。\n",
    "3.  讨论了几种避免这种数据泄露的策略。其中，在不改变训练设定的情况下，最有效的办法是梯度截断。\n",
    "4.  提高人们的安全意识。\n"
   ],
   "cell_type": "markdown",
   "metadata": {}
  },
  {
   "source": [
    "## Introduction\n",
    "\n",
    "分布式训练：\n",
    "\n",
    "- 在大规模数据集上可以加速训练过程\n",
    "- 计算在各个 worker 上执行，通过交换梯度进行同步\n",
    "- 数据是分散的，数据属于各个 worker，不同的 worker 只有在训练的过程中交换梯度\n",
    "- 可以利用不同来源的数据共同训练一个模型\n",
    "\n",
    "如果数据需要隐私保护的，这种模式叫做**协同训练**"
   ],
   "cell_type": "markdown",
   "metadata": {}
  },
  {
   "cell_type": "code",
   "execution_count": null,
   "metadata": {},
   "outputs": [],
   "source": []
  }
 ]
}